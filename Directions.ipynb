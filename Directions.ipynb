{
 "cells": [
  {
   "cell_type": "markdown",
   "metadata": {},
   "source": [
    "## 1st user story\n",
    "- short bio\n",
    "- education history\n",
    "- job experience\n",
    "- any goals \n",
    "##\n",
    "- two truths and a lie // two lies and one truth.\n",
    "    -Lie: I like coding classes\n",
    "    -I am 18 years old\n",
    "    -This is my ninth year at the same school\n",
    "##\n",
    "- five questions\n",
    "- Do you still feel human even after the past four years?\n",
    "- Do you own any pets?\n",
    "- Are you old enough to drink?\n",
    "- When you are faced with a difficult question that decides the fate of thousands of people, do you cripple under the pressure?\n",
    "- When your alone and the noise of society dies down to a whisper do you feel happier?\n",
    "\n",
    "## 2nd user story\n",
    "- ask users name through prompt\n",
    "- display name back in greeting\n",
    "- and back again in final message\n",
    "\n",
    "## syntax\n",
    "- js file must have a use strick line at the top\n",
    "- the css file and the js file external"
   ]
  }
 ],
 "metadata": {
  "language_info": {
   "name": "python"
  }
 },
 "nbformat": 4,
 "nbformat_minor": 2
}
